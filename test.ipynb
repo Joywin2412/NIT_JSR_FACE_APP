{
 "cells": [
  {
   "cell_type": "code",
   "execution_count": 1,
   "metadata": {},
   "outputs": [
    {
     "name": "stdout",
     "output_type": "stream",
     "text": [
      "Hi\n",
      "abc\n"
     ]
    }
   ],
   "source": [
    "import random_string\n",
    "\n",
    "print(random_string.array2string([97,98,99]))"
   ]
  },
  {
   "cell_type": "code",
   "execution_count": 32,
   "metadata": {},
   "outputs": [
    {
     "name": "stdout",
     "output_type": "stream",
     "text": [
      "b'00000000000000000000000000000000000000000000000000000000000000000000000000000000000000000000000000000000000000000000000000000000000000000000000000000000000000000000000000000000000000000000000000000000000'\n",
      "b'SUUCCC\\\\EWQVYUQZCY\\\\ZFT^RV@TF\\\\IQARU[JDZVX[_CW@WU_FVEFH[Q@AB\\\\TSHE_X@ZDYQT]H^IV^UEAZWSAJCYXQUWQ\\\\BAEVBC^RB[@C]RCVHEX[ZZXGHYGXUR\\\\[RH_IBZBQBG\\\\_UJUDRF]G@BASXB\\x89u\\xfbU>\\x80\\xb2\\xe0\\xdb;J>WC\\x95O\\xaa\\xb7\\xc0\\xce\"\\xe8\\xd9t\\xac\\xa3\\x03\\ntM\\xb9\\xd6Y%#\\x96z\\xab\\x9f\\xcdnM\\xb4\\x1eWj\\x05\\xbf\\xc2\\x1a\\xaa\\n\\xc0'\n"
     ]
    }
   ],
   "source": [
    "def byte_xor(ba1, ba2):\n",
    "    return bytes([_a ^ _b for _a, _b in zip(ba1, ba2)])\n",
    "str = b'ceessslugafieajsiljvdnbfpdvlyaqbekztjfhkosgpgeovfuvxkapqrldcxuohpjtiadmxnyfneuqjgcqzsihaegalrqufrsnbrkpsmbsfxuhkjjhwxiwheblkbxoyrjrarwloezetbvmwprqchr\\xb9E\\xcbe\\x0e\\xb0\\x82\\xd0\\xeb\\x0bz\\x0egs\\xa5\\x7f\\x9a\\x87\\xf0\\xfe\\x12\\xd8\\xe9D\\x9c\\x933:D}\\x89\\xe6i\\x15\\x13\\xa6J\\x9b\\xaf\\xfd^}\\x84.gZ5\\x8f\\xf2*\\x9a:\\xf0'\n",
    "str2 = \"\"\n",
    "for i in range(0,len(str)):\n",
    "    str2 += '0'\n",
    "str2 = str2.encode(encoding='utf8')\n",
    "print(str2)\n",
    "idx = -1\n",
    "cnt = 0\n",
    "\n",
    "import random_string\n",
    "\n",
    "print(byte_xor(str,str2))"
   ]
  },
  {
   "cell_type": "code",
   "execution_count": 23,
   "metadata": {},
   "outputs": [
    {
     "name": "stdout",
     "output_type": "stream",
     "text": [
      "\u000b\n",
      "Hi\n",
      "203\n",
      "203\n",
      "229\n",
      "b'ceessslugafieajsiljvdnbfpdvlyaqbekztjfhkosgpgeovfuvxkapqrldcxuohpjtiadmxnyfneuqjgcqzsihaegalrqufrsnbrkpsmbsfxuhkjjhwxiwheblkbxoyrjrarwloezetbvmwprqchr\\xc2\\xb9E\\xc3\\x8be\\x0e\\xc2\\xb0\\xc2\\x82\\xc3\\x90\\xc3\\xab\\x0bz\\x0egs\\xc2\\xa5\\x7f\\xc2\\x9a\\xc2\\x87\\xc3\\xb0\\xc3\\xbe\\x12\\xc3\\x98\\xc3\\xa9D\\xc2\\x9c\\xc2\\x933:D}\\xc2\\x89\\xc3\\xa6i\\x15\\x13\\xc2\\xa6J\\xc2\\x9b\\xc2\\xaf\\xc3\\xbd^}\\xc2\\x84.gZ5\\xc2\\x8f\\xc3\\xb2*\\xc2\\x9a:\\xc3\\xb0'\n",
      "b'ceessslugafieajsiljvdnbfpdvlyaqbekztjfhkosgpgeovfuvxkapqrldcxuohpjtiadmxnyfneuqjgcqzsihaegalrqufrsnbrkpsmbsfxuhkjjhwxiwheblkbxoyrjrarwloezetbvmwprqchr\\xb9E\\xcbe\\x0e\\xb0\\x82\\xd0\\xeb\\x0bz\\x0egs\\xa5\\x7f\\x9a\\x87\\xf0\\xfe\\x12\\xd8\\xe9D\\x9c\\x933:D}\\x89\\xe6i\\x15\\x13\\xa6J\\x9b\\xaf\\xfd^}\\x84.gZ5\\x8f\\xf2*\\x9a:\\xf0'\n"
     ]
    }
   ],
   "source": [
    "test_arr= [99, 101, 101, 115, 115, 115, 108, 117, 103, 97, 102, 105, 101, 97, 106, 115, 105, 108, 106, 118, 100, 110, 98, 102, 112, 100, 118, 108, 121, 97, 113, 98, 101, 107, 122, 116, 106, 102, 104, 107, 111, 115, 103, 112, 103, 101, 111, 118, 102, 117, 118, 120, 107, 97, 112, 113, 114, 108, 100, 99, 120, 117, 111, \n",
    "104, 112, 106, 116, 105, 97, 100, 109, 120, 110, 121, 102, 110, 101, 117, 113, 106, 103, 99, 113, 122, 115, 105, 104, 97, 101, 103, 97, 108, 114, 113, 117, 102, 114, 115, 110, 98, 114, 107, 112, 115, 109, 98, 115, 102, 120, 117, 104, 107, 106, 106, 104, 119, 120, 105, 119, 104, 101, 98, 108, 107, 98, 120, 111, 121, 114, 106, 114, 97, 114, 119, 108, 111, 101, 122, 101, 116, 98, 118, 109, 119, 112, 114, 113, 99, 104, 114, 185, 69, 203, 101, 14, 176, 130, 208, \n",
    "235, 11, 122, 14, 103, 115, 165, 127, 154, 135, 240, 254, 18, 216, 233, 68, 156, 147, 51, 58, 68, 125, 137, 230, 105, 21, 19, 166, 74, 155, 175, 253, 94, \n",
    "125, 132, 46, 103, 90, 53, 143, 242, 42, 154, 58, 240]\n",
    "\n",
    "str_decoded = random_string.array2string(test_arr).encode('utf-8')\n",
    "print(len(test_arr))\n",
    "print(len(str_decoded))\n",
    "print(str_decoded)\n",
    "print(str)"
   ]
  },
  {
   "cell_type": "code",
   "execution_count": null,
   "metadata": {},
   "outputs": [],
   "source": []
  }
 ],
 "metadata": {
  "kernelspec": {
   "display_name": "Python 3",
   "language": "python",
   "name": "python3"
  },
  "language_info": {
   "codemirror_mode": {
    "name": "ipython",
    "version": 3
   },
   "file_extension": ".py",
   "mimetype": "text/x-python",
   "name": "python",
   "nbconvert_exporter": "python",
   "pygments_lexer": "ipython3",
   "version": "3.11.0"
  }
 },
 "nbformat": 4,
 "nbformat_minor": 2
}
